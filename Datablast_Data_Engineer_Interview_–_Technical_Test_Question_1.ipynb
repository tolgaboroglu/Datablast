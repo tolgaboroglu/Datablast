{
  "nbformat": 4,
  "nbformat_minor": 0,
  "metadata": {
    "colab": {
      "provenance": [],
      "authorship_tag": "ABX9TyOicY0ElUtXYSYpSfQp5FnB",
      "include_colab_link": true
    },
    "kernelspec": {
      "name": "python3",
      "display_name": "Python 3"
    },
    "language_info": {
      "name": "python"
    }
  },
  "cells": [
    {
      "cell_type": "markdown",
      "metadata": {
        "id": "view-in-github",
        "colab_type": "text"
      },
      "source": [
        "<a href=\"https://colab.research.google.com/github/tolgaboroglu/Datablast/blob/main/Datablast_Data_Engineer_Interview_%E2%80%93_Technical_Test_Question_1.ipynb\" target=\"_parent\"><img src=\"https://colab.research.google.com/assets/colab-badge.svg\" alt=\"Open In Colab\"/></a>"
      ]
    },
    {
      "cell_type": "markdown",
      "source": [
        "## Question 1"
      ],
      "metadata": {
        "id": "M_x98o4U7cRC"
      }
    },
    {
      "cell_type": "code",
      "source": [
        "!pip install forex-python"
      ],
      "metadata": {
        "colab": {
          "base_uri": "https://localhost:8080/"
        },
        "id": "YZqeqI4Z7jkB",
        "outputId": "32261522-7751-4b87-bcfd-1fd115f3b6e7"
      },
      "execution_count": null,
      "outputs": [
        {
          "output_type": "stream",
          "name": "stdout",
          "text": [
            "Collecting forex-python\n",
            "  Downloading forex_python-1.8-py3-none-any.whl (8.2 kB)\n",
            "Requirement already satisfied: requests in /usr/local/lib/python3.10/dist-packages (from forex-python) (2.31.0)\n",
            "Collecting simplejson (from forex-python)\n",
            "  Downloading simplejson-3.19.2-cp310-cp310-manylinux_2_5_x86_64.manylinux1_x86_64.manylinux_2_17_x86_64.manylinux2014_x86_64.whl (137 kB)\n",
            "\u001b[2K     \u001b[90m━━━━━━━━━━━━━━━━━━━━━━━━━━━━━━━━━━━━━━━━\u001b[0m \u001b[32m137.9/137.9 kB\u001b[0m \u001b[31m2.9 MB/s\u001b[0m eta \u001b[36m0:00:00\u001b[0m\n",
            "\u001b[?25hRequirement already satisfied: charset-normalizer<4,>=2 in /usr/local/lib/python3.10/dist-packages (from requests->forex-python) (3.3.2)\n",
            "Requirement already satisfied: idna<4,>=2.5 in /usr/local/lib/python3.10/dist-packages (from requests->forex-python) (3.6)\n",
            "Requirement already satisfied: urllib3<3,>=1.21.1 in /usr/local/lib/python3.10/dist-packages (from requests->forex-python) (2.0.7)\n",
            "Requirement already satisfied: certifi>=2017.4.17 in /usr/local/lib/python3.10/dist-packages (from requests->forex-python) (2023.11.17)\n",
            "Installing collected packages: simplejson, forex-python\n",
            "Successfully installed forex-python-1.8 simplejson-3.19.2\n"
          ]
        }
      ]
    },
    {
      "cell_type": "code",
      "source": [
        "import csv\n",
        "from datetime import datetime, timedelta\n",
        "from forex_python.converter import CurrencyRates\n",
        "\n",
        "# Function to fetch USD currency rates between specified dates\n",
        "def fetch_currency_rates(start_date, end_date):\n",
        "    c = CurrencyRates()\n",
        "\n",
        "    # Create a list to store the results\n",
        "    results = []\n",
        "\n",
        "    # Generate a range of dates between start_date and end_date\n",
        "    current_date = start_date\n",
        "    while current_date <= end_date:\n",
        "        rates = c.get_rates('USD', current_date)\n",
        "        for currency, value in rates.items():\n",
        "            results.append({'Date': current_date.strftime('%Y-%m-%d'), 'Name': currency, 'Value': value})\n",
        "        current_date += timedelta(days=1)\n",
        "\n",
        "    return results\n",
        "\n",
        "# Function to write results to a CSV file\n",
        "def write_to_csv(results, filename):\n",
        "    # Ensure 'Date', 'Name', 'Value' is the order of columns\n",
        "    fieldnames = ['Date', 'Name', 'Value']\n",
        "\n",
        "    with open(filename, 'w', newline='') as csvfile:\n",
        "        writer = csv.DictWriter(csvfile, fieldnames=fieldnames)\n",
        "        writer.writeheader()\n",
        "        writer.writerows(results)\n",
        "\n",
        "if __name__ == \"__main__\":\n",
        "    # Specify the start and end dates\n",
        "    start_date = datetime(2021, 1, 1)\n",
        "    end_date = datetime(2021, 1, 10)\n",
        "\n",
        "    # Fetch USD currency rates\n",
        "    results = fetch_currency_rates(start_date, end_date)\n",
        "\n",
        "    # Write results to a CSV file\n",
        "    csv_filename = 'currency_rates_2021-01-01_to_2021-01-10_.csv'\n",
        "    write_to_csv(results, csv_filename)\n",
        "\n",
        "    print(f\"Currency rates have been fetched and saved to {csv_filename}.\")\n"
      ],
      "metadata": {
        "colab": {
          "base_uri": "https://localhost:8080/"
        },
        "id": "YyLFYls-MuvJ",
        "outputId": "7015b855-8c21-42d6-f700-982777222e5e"
      },
      "execution_count": 11,
      "outputs": [
        {
          "output_type": "stream",
          "name": "stdout",
          "text": [
            "Currency rates have been fetched and saved to currency_rates_2021-01-01_to_2021-01-10_.csv.\n"
          ]
        }
      ]
    }
  ]
}